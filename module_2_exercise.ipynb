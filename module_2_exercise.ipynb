{
  "nbformat": 4,
  "nbformat_minor": 0,
  "metadata": {
    "colab": {
      "name": "module_2_exercise.ipynb",
      "provenance": [],
      "collapsed_sections": [],
      "toc_visible": true,
      "include_colab_link": true
    },
    "kernelspec": {
      "name": "python3",
      "display_name": "Python 3"
    }
  },
  "cells": [
    {
      "cell_type": "markdown",
      "metadata": {
        "id": "view-in-github",
        "colab_type": "text"
      },
      "source": [
        "<a href=\"https://colab.research.google.com/github/rodrigovix74/atividade-conclusao/blob/master/module_2_exercise.ipynb\" target=\"_parent\"><img src=\"https://colab.research.google.com/assets/colab-badge.svg\" alt=\"Open In Colab\"/></a>"
      ]
    },
    {
      "cell_type": "markdown",
      "metadata": {
        "id": "KJqp9AANOCtf"
      },
      "source": [
        "<img src=\"https://raw.githubusercontent.com/andre-marcos-perez/ebac-course-utils/main/media/logo/newebac_logo_black_half.png\" alt=\"ebac-logo\">\n",
        "\n",
        "---\n",
        "\n",
        "# **Módulo** | Python: Estruturas de Dados\n",
        "Caderno de **Exercícios**<br> \n",
        "Professor [André Perez](https://www.linkedin.com/in/andremarcosperez/)\n",
        "\n",
        "---"
      ]
    },
    {
      "cell_type": "markdown",
      "metadata": {
        "id": "d9jDtUbDOE1-"
      },
      "source": [
        "# **Tópicos**\n",
        "\n",
        "<ol type=\"1\">\n",
        "  <li>Listas;</li>\n",
        "  <li>Conjuntos;</li>\n",
        "  <li>Dicionários.</li>\n",
        "</ol>"
      ]
    },
    {
      "cell_type": "markdown",
      "metadata": {
        "id": "SmoHgt-lwkpD"
      },
      "source": [
        "---"
      ]
    },
    {
      "cell_type": "markdown",
      "metadata": {
        "id": "GABI6OW8OfQ2"
      },
      "source": [
        "# **Exercícios**"
      ]
    },
    {
      "cell_type": "markdown",
      "metadata": {
        "id": "muD1vxozykSC"
      },
      "source": [
        "## 1\\. Listas"
      ]
    },
    {
      "cell_type": "markdown",
      "metadata": {
        "id": "ahrFfCuBxJKs"
      },
      "source": [
        "Criei uma lista chamada `filmes` com o nome dos 10 primeiros filmes mais bem avaliados no site no [IMDB](https://www.imdb.com/chart/top/). Imprima o resultado."
      ]
    },
    {
      "cell_type": "code",
      "metadata": {
        "id": "OgL6Hv3bzOHI",
        "colab": {
          "base_uri": "https://localhost:8080/"
        },
        "outputId": "c9ac4d7b-cbbd-4272-a3bb-1bf2289cfba1"
      },
      "source": [
        "filmes = ['Batman', 'Projeto Adam',\n",
        "          'Red: Crescer é uma Fera',\n",
        "          'The Kashmir Files',\n",
        "          'Homem-Aranha: Sem Volta para Casa',\n",
        "          'X', 'Águas Profundas', 'Amor, Sublime Amor',\n",
        "          'Ataque dos Cães', 'Fresh']\n",
        "print(filmes)"
      ],
      "execution_count": null,
      "outputs": [
        {
          "output_type": "stream",
          "name": "stdout",
          "text": [
            "['Batman', 'Projeto Adam', 'Red: Crescer é uma Fera', 'The Kashmir Files', 'Homem-Aranha: Sem Volta para Casa', 'X', 'Águas Profundas', 'Amor, Sublime Amor', 'Ataque dos Cães', 'Fresh']\n"
          ]
        }
      ]
    },
    {
      "cell_type": "markdown",
      "metadata": {
        "id": "KI9zQRT2xa7m"
      },
      "source": [
        "Simule a movimentação do *ranking*. Utilize os métodos `insert` e `pop` para trocar a posição do primeiro e do segundo filme da lista. Imprima o resultado.\n",
        "\n"
      ]
    },
    {
      "cell_type": "code",
      "metadata": {
        "id": "zX3mA3_GzrXH",
        "colab": {
          "base_uri": "https://localhost:8080/"
        },
        "outputId": "7065c872-37ed-4587-e251-0ccf51161582"
      },
      "source": [
        "filmes.insert(0, 'Projeto Adam')\n",
        "saida = filmes.pop(2)\n",
        "print(saida)\n",
        "print(filmes)"
      ],
      "execution_count": null,
      "outputs": [
        {
          "output_type": "stream",
          "name": "stdout",
          "text": [
            "Projeto Adam\n",
            "['Projeto Adam', 'Batman', 'Red: Crescer é uma Fera', 'The Kashmir Files', 'Homem-Aranha: Sem Volta para Casa', 'X', 'Águas Profundas', 'Amor, Sublime Amor', 'Ataque dos Cães', 'Fresh']\n"
          ]
        }
      ]
    },
    {
      "cell_type": "markdown",
      "metadata": {
        "id": "zMN1Q3jdwoJm"
      },
      "source": [
        "---"
      ]
    },
    {
      "cell_type": "markdown",
      "metadata": {
        "id": "lxa5L6uF0ZJE"
      },
      "source": [
        "## 2\\. Conjuntos"
      ]
    },
    {
      "cell_type": "markdown",
      "metadata": {
        "id": "9JahS2Kj0d5u"
      },
      "source": [
        "Aconteceu um erro no seu *ranking*. Simule a duplicação dos três últimos filmes da lista. Imprima o resultado."
      ]
    },
    {
      "cell_type": "code",
      "metadata": {
        "id": "BnjnLBNC6PGe",
        "colab": {
          "base_uri": "https://localhost:8080/"
        },
        "outputId": "a77956c8-0d7c-4b6b-aad6-9be4350258fa"
      },
      "source": [
        "top10 = ['Batman', 'Projeto Adam',\n",
        "          'Red: Crescer é uma Fera',\n",
        "          'The Kashmir Files',\n",
        "          'Homem-Aranha: Sem Volta para Casa',\n",
        "          'X', 'Águas Profundas', 'Amor, Sublime Amor',\n",
        "          'Ataque dos Cães', 'Fresh', 'Amor, Sublime Amor',\n",
        "          'Ataque dos Cães', 'Fresh']\n",
        "print(top10)"
      ],
      "execution_count": null,
      "outputs": [
        {
          "output_type": "stream",
          "name": "stdout",
          "text": [
            "['Batman', 'Projeto Adam', 'Red: Crescer é uma Fera', 'The Kashmir Files', 'Homem-Aranha: Sem Volta para Casa', 'X', 'Águas Profundas', 'Amor, Sublime Amor', 'Ataque dos Cães', 'Fresh', 'Amor, Sublime Amor', 'Ataque dos Cães', 'Fresh']\n"
          ]
        }
      ]
    },
    {
      "cell_type": "markdown",
      "metadata": {
        "id": "suxTfCJB6ZiX"
      },
      "source": [
        "Utiliza a conversão `set` e `list` para remover os valores duplicados. Imprima o resultado. "
      ]
    },
    {
      "cell_type": "code",
      "source": [
        "remove_list = top10.pop()\n",
        "print(remove_list)\n",
        "remove_list = top10.pop()\n",
        "print(remove_list)\n",
        "remove_list = top10.pop()\n",
        "print(remove_list)\n",
        "print(top10)"
      ],
      "metadata": {
        "colab": {
          "base_uri": "https://localhost:8080/"
        },
        "id": "ombqzOUQZe_S",
        "outputId": "778f8c98-a113-485a-a74e-84285c397744"
      },
      "execution_count": null,
      "outputs": [
        {
          "output_type": "stream",
          "name": "stdout",
          "text": [
            "Fresh\n",
            "Ataque dos Cães\n",
            "Amor, Sublime Amor\n",
            "['Batman', 'Projeto Adam', 'Red: Crescer é uma Fera', 'The Kashmir Files', 'Homem-Aranha: Sem Volta para Casa', 'X', 'Águas Profundas', 'Amor, Sublime Amor', 'Ataque dos Cães', 'Fresh']\n"
          ]
        }
      ]
    },
    {
      "cell_type": "code",
      "metadata": {
        "id": "ZvUGN-0n6joM",
        "colab": {
          "base_uri": "https://localhost:8080/"
        },
        "outputId": "366f22dd-e3c1-415e-a89f-e9ee8d68229a"
      },
      "source": [
        "filmes10 = set(top10)\n",
        "print(filmes10)\n"
      ],
      "execution_count": null,
      "outputs": [
        {
          "output_type": "stream",
          "name": "stdout",
          "text": [
            "{'Batman', 'Red: Crescer é uma Fera', 'The Kashmir Files', 'Amor, Sublime Amor', 'Fresh', 'Águas Profundas', 'X', 'Ataque dos Cães', 'Homem-Aranha: Sem Volta para Casa', 'Projeto Adam'}\n"
          ]
        }
      ]
    },
    {
      "cell_type": "markdown",
      "metadata": {
        "id": "ShkK35eQ6pAM"
      },
      "source": [
        "---"
      ]
    },
    {
      "cell_type": "markdown",
      "metadata": {
        "id": "EL_FzmxL6rTv"
      },
      "source": [
        "## 3\\. Dicionários"
      ]
    },
    {
      "cell_type": "markdown",
      "metadata": {
        "id": "i8l0gFqRCpfT"
      },
      "source": [
        "Repita os exercícios da parte 1 (listas). Os elementos da lista `filmes` devem ser dicionários no seguinte formato: `{'nome': <nome-do-filme>, 'ano': <ano do filme>}, 'sinopse': <sinopse do filme>}`. "
      ]
    },
    {
      "cell_type": "code",
      "metadata": {
        "id": "tu6MSFwGDnHv",
        "colab": {
          "base_uri": "https://localhost:8080/"
        },
        "outputId": "4d0ec719-017b-4754-f77d-9595b34d99b2"
      },
      "source": [
        "top10_filmes = {\n",
        "    'nome1': 'Batman',\n",
        "    'ano1': '2022',\n",
        "    'sinopse1': {\n",
        "        'When the Riddler, a sadistic serial killer, begins murdering key political...'\n",
        "    },\n",
        "\n",
        "    'nome2': 'Projeto Adam',\n",
        "    'ano2': '2022',\n",
        "    'sinopse2': {\n",
        "        'texto2': 'Adam Reed, age 12 and still grieving his fathers sudden death the year before, walks...'\n",
        "    \n",
        "    },\n",
        "\n",
        "    'nome3': 'Red: Crescer é uma fera',\n",
        "    'ano3': '2022',\n",
        "    'sinopse3': {\n",
        "        'texto3': 'Mei Lee (voice of Rosalie Chiang) is a confident, dorky 13-year-old torn between staying...'\n",
        "    \n",
        "    },\n",
        "\n",
        "    'nome4': 'The Kashmir Files',\n",
        "    'ano4': '2022',\n",
        "    'sinopse4': {\n",
        "        'texto4': 'The story revolves around Krishna Pandit (Darshan Kumar), a JNU student, who thinks his parents were killed in an accident...'\n",
        "    \n",
        "    },\n",
        "\n",
        "    'nome5': 'Homem-Aranha: Sem Volta para Casa',\n",
        "    'ano5': '2021',\n",
        "    'sinopse5': {\n",
        "        'texto5': 'Peter Parkers secret identity is revealed to the entire world. Desperate for help, Peter turns to Doctor Strange to make the world forget that he is Spider-Man.'\n",
        "    },\n",
        "\n",
        "    'nome6': 'X',\n",
        "    'ano6': '2022',\n",
        "    'sinopse6': {\n",
        "        'texto6': 'Bla, bla, bla...'    \n",
        "    },\n",
        "\n",
        "    'nome7': 'Águas Profundas',\n",
        "    'ano7': '2022',\n",
        "    'sinopse7': {\n",
        "        'texto7': 'Bla, bla, bla...' \n",
        "    },\n",
        "\n",
        "        'nome8': 'Amor, Sublime Amor',\n",
        "    'ano8': '2022',\n",
        "    'sinopse8': {\n",
        "        'texto8': 'Bla, bla, bla...' \n",
        "    },\n",
        "\n",
        "        'nome9': 'Ataque dos Cães',\n",
        "    'ano9': '2022',\n",
        "    'sinopse9': {\n",
        "        'texto9': 'Bla, bla, bla...' \n",
        "    },\n",
        "\n",
        "        'nome10': 'Fresh',\n",
        "    'ano10': '2022',\n",
        "    'sinopse10': {\n",
        "        'texto10': 'Bla, bla, bla...' \n",
        "    }\n",
        "\n",
        "}\n",
        "\n",
        "print(top10_filmes)\n"
      ],
      "execution_count": 21,
      "outputs": [
        {
          "output_type": "stream",
          "name": "stdout",
          "text": [
            "{'nome1': 'Batman', 'ano1': '2022', 'sinopse1': {'When the Riddler, a sadistic serial killer, begins murdering key political...'}, 'nome2': 'Projeto Adam', 'ano2': '2022', 'sinopse2': {'texto2': 'Adam Reed, age 12 and still grieving his fathers sudden death the year before, walks...'}, 'nome3': 'Red: Crescer é uma fera', 'ano3': '2022', 'sinopse3': {'texto3': 'Mei Lee (voice of Rosalie Chiang) is a confident, dorky 13-year-old torn between staying...'}, 'nome4': 'The Kashmir Files', 'ano4': '2022', 'sinopse4': {'texto4': 'The story revolves around Krishna Pandit (Darshan Kumar), a JNU student, who thinks his parents were killed in an accident...'}, 'nome5': 'Homem-Aranha: Sem Volta para Casa', 'ano5': '2021', 'sinopse5': {'texto5': 'Peter Parkers secret identity is revealed to the entire world. Desperate for help, Peter turns to Doctor Strange to make the world forget that he is Spider-Man.'}, 'nome6': 'X', 'ano6': '2022', 'sinopse6': {'texto6': 'Bla, bla, bla...'}, 'nome7': 'Águas Profundas', 'ano7': '2022', 'sinopse7': {'texto7': 'Bla, bla, bla...'}, 'nome8': 'Amor, Sublime Amor', 'ano8': '2022', 'sinopse8': {'texto8': 'Bla, bla, bla...'}, 'nome9': 'Ataque dos Cães', 'ano9': '2022', 'sinopse9': {'texto9': 'Bla, bla, bla...'}, 'nome10': 'Fresh', 'ano10': '2022', 'sinopse10': {'texto10': 'Bla, bla, bla...'}}\n"
          ]
        }
      ]
    }
  ]
}